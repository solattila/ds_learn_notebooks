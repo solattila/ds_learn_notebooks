{
 "cells": [
  {
   "cell_type": "markdown",
   "metadata": {
    "collapsed": true,
    "pycharm": {
     "name": "#%% md\n"
    }
   },
   "source": [
    "# Pivot tables"
   ]
  },
  {
   "cell_type": "code",
   "execution_count": 1,
   "outputs": [],
   "source": [
    "import numpy as np\n",
    "import pandas as pd\n",
    "import matplotlib as plt"
   ],
   "metadata": {
    "collapsed": false,
    "pycharm": {
     "name": "#%%\n"
    }
   }
  },
  {
   "cell_type": "code",
   "execution_count": 2,
   "outputs": [
    {
     "data": {
      "text/plain": "    Account Number       Company       Contact Account Manager  \\\n0          2123398        Google   Larry Pager    Edward Thorp   \n1          2123398        Google   Larry Pager    Edward Thorp   \n2          2123398        Google   Larry Pager    Edward Thorp   \n3          2192650          BOBO   Larry Pager    Edward Thorp   \n4           420496          IKEA     Elon Tusk    Edward Thorp   \n5           636685    Tesla Inc.     Elon Tusk    Edward Thorp   \n6           636685    Tesla Inc.     Elon Tusk    Edward Thorp   \n7          1216870     Microsoft   Will Grates    Edward Thorp   \n8          2200450       Walmart   Will Grates    Edward Thorp   \n9           405886         Apple  Cindy Phoner  Claude Shannon   \n10          470248  Exxon Mobile  Cindy Phoner  Claude Shannon   \n11          698032           ATT  Cindy Phoner  Claude Shannon   \n12          698032           ATT  Cindy Phoner  Claude Shannon   \n13          902797    CVS Health  Emma Gordian  Claude Shannon   \n14         2046943    Salesforce  Emma Gordian  Claude Shannon   \n15         2169499         Cisco  Emma Gordian  Claude Shannon   \n16         2169499         Cisco  Emma Gordian  Claude Shannon   \n\n            Product  Licenses  Sale Price        Status  \n0         Analytics       150     2100000     Presented  \n1        Prediction       150      700000     Presented  \n2          Tracking       300      350000  Under Review  \n3         Analytics       150     2450000          Lost  \n4         Analytics       300     4550000           Won  \n5         Analytics       300     2800000  Under Review  \n6        Prediction       150      700000     Presented  \n7          Tracking       300      350000  Under Review  \n8         Analytics       150     2450000          Lost  \n9         Analytics       300     4550000           Won  \n10        Analytics       150     2100000     Presented  \n11         Tracking       150      350000  Under Review  \n12       Prediction       150      700000     Presented  \n13         Tracking       450      490000           Won  \n14        Analytics       750     7000000           Won  \n15        Analytics       300     4550000          Lost  \n16  GPS Positioning       300      350000     Presented  ",
      "text/html": "<div>\n<style scoped>\n    .dataframe tbody tr th:only-of-type {\n        vertical-align: middle;\n    }\n\n    .dataframe tbody tr th {\n        vertical-align: top;\n    }\n\n    .dataframe thead th {\n        text-align: right;\n    }\n</style>\n<table border=\"1\" class=\"dataframe\">\n  <thead>\n    <tr style=\"text-align: right;\">\n      <th></th>\n      <th>Account Number</th>\n      <th>Company</th>\n      <th>Contact</th>\n      <th>Account Manager</th>\n      <th>Product</th>\n      <th>Licenses</th>\n      <th>Sale Price</th>\n      <th>Status</th>\n    </tr>\n  </thead>\n  <tbody>\n    <tr>\n      <th>0</th>\n      <td>2123398</td>\n      <td>Google</td>\n      <td>Larry Pager</td>\n      <td>Edward Thorp</td>\n      <td>Analytics</td>\n      <td>150</td>\n      <td>2100000</td>\n      <td>Presented</td>\n    </tr>\n    <tr>\n      <th>1</th>\n      <td>2123398</td>\n      <td>Google</td>\n      <td>Larry Pager</td>\n      <td>Edward Thorp</td>\n      <td>Prediction</td>\n      <td>150</td>\n      <td>700000</td>\n      <td>Presented</td>\n    </tr>\n    <tr>\n      <th>2</th>\n      <td>2123398</td>\n      <td>Google</td>\n      <td>Larry Pager</td>\n      <td>Edward Thorp</td>\n      <td>Tracking</td>\n      <td>300</td>\n      <td>350000</td>\n      <td>Under Review</td>\n    </tr>\n    <tr>\n      <th>3</th>\n      <td>2192650</td>\n      <td>BOBO</td>\n      <td>Larry Pager</td>\n      <td>Edward Thorp</td>\n      <td>Analytics</td>\n      <td>150</td>\n      <td>2450000</td>\n      <td>Lost</td>\n    </tr>\n    <tr>\n      <th>4</th>\n      <td>420496</td>\n      <td>IKEA</td>\n      <td>Elon Tusk</td>\n      <td>Edward Thorp</td>\n      <td>Analytics</td>\n      <td>300</td>\n      <td>4550000</td>\n      <td>Won</td>\n    </tr>\n    <tr>\n      <th>5</th>\n      <td>636685</td>\n      <td>Tesla Inc.</td>\n      <td>Elon Tusk</td>\n      <td>Edward Thorp</td>\n      <td>Analytics</td>\n      <td>300</td>\n      <td>2800000</td>\n      <td>Under Review</td>\n    </tr>\n    <tr>\n      <th>6</th>\n      <td>636685</td>\n      <td>Tesla Inc.</td>\n      <td>Elon Tusk</td>\n      <td>Edward Thorp</td>\n      <td>Prediction</td>\n      <td>150</td>\n      <td>700000</td>\n      <td>Presented</td>\n    </tr>\n    <tr>\n      <th>7</th>\n      <td>1216870</td>\n      <td>Microsoft</td>\n      <td>Will Grates</td>\n      <td>Edward Thorp</td>\n      <td>Tracking</td>\n      <td>300</td>\n      <td>350000</td>\n      <td>Under Review</td>\n    </tr>\n    <tr>\n      <th>8</th>\n      <td>2200450</td>\n      <td>Walmart</td>\n      <td>Will Grates</td>\n      <td>Edward Thorp</td>\n      <td>Analytics</td>\n      <td>150</td>\n      <td>2450000</td>\n      <td>Lost</td>\n    </tr>\n    <tr>\n      <th>9</th>\n      <td>405886</td>\n      <td>Apple</td>\n      <td>Cindy Phoner</td>\n      <td>Claude Shannon</td>\n      <td>Analytics</td>\n      <td>300</td>\n      <td>4550000</td>\n      <td>Won</td>\n    </tr>\n    <tr>\n      <th>10</th>\n      <td>470248</td>\n      <td>Exxon Mobile</td>\n      <td>Cindy Phoner</td>\n      <td>Claude Shannon</td>\n      <td>Analytics</td>\n      <td>150</td>\n      <td>2100000</td>\n      <td>Presented</td>\n    </tr>\n    <tr>\n      <th>11</th>\n      <td>698032</td>\n      <td>ATT</td>\n      <td>Cindy Phoner</td>\n      <td>Claude Shannon</td>\n      <td>Tracking</td>\n      <td>150</td>\n      <td>350000</td>\n      <td>Under Review</td>\n    </tr>\n    <tr>\n      <th>12</th>\n      <td>698032</td>\n      <td>ATT</td>\n      <td>Cindy Phoner</td>\n      <td>Claude Shannon</td>\n      <td>Prediction</td>\n      <td>150</td>\n      <td>700000</td>\n      <td>Presented</td>\n    </tr>\n    <tr>\n      <th>13</th>\n      <td>902797</td>\n      <td>CVS Health</td>\n      <td>Emma Gordian</td>\n      <td>Claude Shannon</td>\n      <td>Tracking</td>\n      <td>450</td>\n      <td>490000</td>\n      <td>Won</td>\n    </tr>\n    <tr>\n      <th>14</th>\n      <td>2046943</td>\n      <td>Salesforce</td>\n      <td>Emma Gordian</td>\n      <td>Claude Shannon</td>\n      <td>Analytics</td>\n      <td>750</td>\n      <td>7000000</td>\n      <td>Won</td>\n    </tr>\n    <tr>\n      <th>15</th>\n      <td>2169499</td>\n      <td>Cisco</td>\n      <td>Emma Gordian</td>\n      <td>Claude Shannon</td>\n      <td>Analytics</td>\n      <td>300</td>\n      <td>4550000</td>\n      <td>Lost</td>\n    </tr>\n    <tr>\n      <th>16</th>\n      <td>2169499</td>\n      <td>Cisco</td>\n      <td>Emma Gordian</td>\n      <td>Claude Shannon</td>\n      <td>GPS Positioning</td>\n      <td>300</td>\n      <td>350000</td>\n      <td>Presented</td>\n    </tr>\n  </tbody>\n</table>\n</div>"
     },
     "execution_count": 2,
     "metadata": {},
     "output_type": "execute_result"
    }
   ],
   "source": [
    "df = pd.read_csv('DATA/Sales_Funnel_CRM.csv')\n",
    "df"
   ],
   "metadata": {
    "collapsed": false,
    "pycharm": {
     "name": "#%%\n"
    }
   }
  },
  {
   "cell_type": "code",
   "execution_count": 4,
   "outputs": [],
   "source": [
    "# help(pd.pivot)"
   ],
   "metadata": {
    "collapsed": false,
    "pycharm": {
     "name": "#%%\n"
    }
   }
  },
  {
   "cell_type": "code",
   "execution_count": 5,
   "outputs": [
    {
     "data": {
      "text/plain": "         Company          Product  Licenses\n0         Google        Analytics       150\n1         Google       Prediction       150\n2         Google         Tracking       300\n3           BOBO        Analytics       150\n4           IKEA        Analytics       300\n5     Tesla Inc.        Analytics       300\n6     Tesla Inc.       Prediction       150\n7      Microsoft         Tracking       300\n8        Walmart        Analytics       150\n9          Apple        Analytics       300\n10  Exxon Mobile        Analytics       150\n11           ATT         Tracking       150\n12           ATT       Prediction       150\n13    CVS Health         Tracking       450\n14    Salesforce        Analytics       750\n15         Cisco        Analytics       300\n16         Cisco  GPS Positioning       300",
      "text/html": "<div>\n<style scoped>\n    .dataframe tbody tr th:only-of-type {\n        vertical-align: middle;\n    }\n\n    .dataframe tbody tr th {\n        vertical-align: top;\n    }\n\n    .dataframe thead th {\n        text-align: right;\n    }\n</style>\n<table border=\"1\" class=\"dataframe\">\n  <thead>\n    <tr style=\"text-align: right;\">\n      <th></th>\n      <th>Company</th>\n      <th>Product</th>\n      <th>Licenses</th>\n    </tr>\n  </thead>\n  <tbody>\n    <tr>\n      <th>0</th>\n      <td>Google</td>\n      <td>Analytics</td>\n      <td>150</td>\n    </tr>\n    <tr>\n      <th>1</th>\n      <td>Google</td>\n      <td>Prediction</td>\n      <td>150</td>\n    </tr>\n    <tr>\n      <th>2</th>\n      <td>Google</td>\n      <td>Tracking</td>\n      <td>300</td>\n    </tr>\n    <tr>\n      <th>3</th>\n      <td>BOBO</td>\n      <td>Analytics</td>\n      <td>150</td>\n    </tr>\n    <tr>\n      <th>4</th>\n      <td>IKEA</td>\n      <td>Analytics</td>\n      <td>300</td>\n    </tr>\n    <tr>\n      <th>5</th>\n      <td>Tesla Inc.</td>\n      <td>Analytics</td>\n      <td>300</td>\n    </tr>\n    <tr>\n      <th>6</th>\n      <td>Tesla Inc.</td>\n      <td>Prediction</td>\n      <td>150</td>\n    </tr>\n    <tr>\n      <th>7</th>\n      <td>Microsoft</td>\n      <td>Tracking</td>\n      <td>300</td>\n    </tr>\n    <tr>\n      <th>8</th>\n      <td>Walmart</td>\n      <td>Analytics</td>\n      <td>150</td>\n    </tr>\n    <tr>\n      <th>9</th>\n      <td>Apple</td>\n      <td>Analytics</td>\n      <td>300</td>\n    </tr>\n    <tr>\n      <th>10</th>\n      <td>Exxon Mobile</td>\n      <td>Analytics</td>\n      <td>150</td>\n    </tr>\n    <tr>\n      <th>11</th>\n      <td>ATT</td>\n      <td>Tracking</td>\n      <td>150</td>\n    </tr>\n    <tr>\n      <th>12</th>\n      <td>ATT</td>\n      <td>Prediction</td>\n      <td>150</td>\n    </tr>\n    <tr>\n      <th>13</th>\n      <td>CVS Health</td>\n      <td>Tracking</td>\n      <td>450</td>\n    </tr>\n    <tr>\n      <th>14</th>\n      <td>Salesforce</td>\n      <td>Analytics</td>\n      <td>750</td>\n    </tr>\n    <tr>\n      <th>15</th>\n      <td>Cisco</td>\n      <td>Analytics</td>\n      <td>300</td>\n    </tr>\n    <tr>\n      <th>16</th>\n      <td>Cisco</td>\n      <td>GPS Positioning</td>\n      <td>300</td>\n    </tr>\n  </tbody>\n</table>\n</div>"
     },
     "execution_count": 5,
     "metadata": {},
     "output_type": "execute_result"
    }
   ],
   "source": [
    "licenses = df[['Company', 'Product', 'Licenses']]\n",
    "licenses"
   ],
   "metadata": {
    "collapsed": false,
    "pycharm": {
     "name": "#%%\n"
    }
   }
  },
  {
   "cell_type": "code",
   "execution_count": 6,
   "outputs": [
    {
     "data": {
      "text/plain": "Product       Analytics  GPS Positioning  Prediction  Tracking\nCompany                                                       \n Google           150.0              NaN       150.0     300.0\nATT                 NaN              NaN       150.0     150.0\nApple             300.0              NaN         NaN       NaN\nBOBO              150.0              NaN         NaN       NaN\nCVS Health          NaN              NaN         NaN     450.0\nCisco             300.0            300.0         NaN       NaN\nExxon Mobile      150.0              NaN         NaN       NaN\nIKEA              300.0              NaN         NaN       NaN\nMicrosoft           NaN              NaN         NaN     300.0\nSalesforce        750.0              NaN         NaN       NaN\nTesla Inc.        300.0              NaN       150.0       NaN\nWalmart           150.0              NaN         NaN       NaN",
      "text/html": "<div>\n<style scoped>\n    .dataframe tbody tr th:only-of-type {\n        vertical-align: middle;\n    }\n\n    .dataframe tbody tr th {\n        vertical-align: top;\n    }\n\n    .dataframe thead th {\n        text-align: right;\n    }\n</style>\n<table border=\"1\" class=\"dataframe\">\n  <thead>\n    <tr style=\"text-align: right;\">\n      <th>Product</th>\n      <th>Analytics</th>\n      <th>GPS Positioning</th>\n      <th>Prediction</th>\n      <th>Tracking</th>\n    </tr>\n    <tr>\n      <th>Company</th>\n      <th></th>\n      <th></th>\n      <th></th>\n      <th></th>\n    </tr>\n  </thead>\n  <tbody>\n    <tr>\n      <th>Google</th>\n      <td>150.0</td>\n      <td>NaN</td>\n      <td>150.0</td>\n      <td>300.0</td>\n    </tr>\n    <tr>\n      <th>ATT</th>\n      <td>NaN</td>\n      <td>NaN</td>\n      <td>150.0</td>\n      <td>150.0</td>\n    </tr>\n    <tr>\n      <th>Apple</th>\n      <td>300.0</td>\n      <td>NaN</td>\n      <td>NaN</td>\n      <td>NaN</td>\n    </tr>\n    <tr>\n      <th>BOBO</th>\n      <td>150.0</td>\n      <td>NaN</td>\n      <td>NaN</td>\n      <td>NaN</td>\n    </tr>\n    <tr>\n      <th>CVS Health</th>\n      <td>NaN</td>\n      <td>NaN</td>\n      <td>NaN</td>\n      <td>450.0</td>\n    </tr>\n    <tr>\n      <th>Cisco</th>\n      <td>300.0</td>\n      <td>300.0</td>\n      <td>NaN</td>\n      <td>NaN</td>\n    </tr>\n    <tr>\n      <th>Exxon Mobile</th>\n      <td>150.0</td>\n      <td>NaN</td>\n      <td>NaN</td>\n      <td>NaN</td>\n    </tr>\n    <tr>\n      <th>IKEA</th>\n      <td>300.0</td>\n      <td>NaN</td>\n      <td>NaN</td>\n      <td>NaN</td>\n    </tr>\n    <tr>\n      <th>Microsoft</th>\n      <td>NaN</td>\n      <td>NaN</td>\n      <td>NaN</td>\n      <td>300.0</td>\n    </tr>\n    <tr>\n      <th>Salesforce</th>\n      <td>750.0</td>\n      <td>NaN</td>\n      <td>NaN</td>\n      <td>NaN</td>\n    </tr>\n    <tr>\n      <th>Tesla Inc.</th>\n      <td>300.0</td>\n      <td>NaN</td>\n      <td>150.0</td>\n      <td>NaN</td>\n    </tr>\n    <tr>\n      <th>Walmart</th>\n      <td>150.0</td>\n      <td>NaN</td>\n      <td>NaN</td>\n      <td>NaN</td>\n    </tr>\n  </tbody>\n</table>\n</div>"
     },
     "execution_count": 6,
     "metadata": {},
     "output_type": "execute_result"
    }
   ],
   "source": [
    "pd.pivot(data=licenses, index='Company', columns='Product', values='Licenses')"
   ],
   "metadata": {
    "collapsed": false,
    "pycharm": {
     "name": "#%%\n"
    }
   }
  },
  {
   "cell_type": "code",
   "execution_count": 7,
   "outputs": [
    {
     "data": {
      "text/plain": "    Account Number       Company       Contact Account Manager  \\\n0          2123398        Google   Larry Pager    Edward Thorp   \n1          2123398        Google   Larry Pager    Edward Thorp   \n2          2123398        Google   Larry Pager    Edward Thorp   \n3          2192650          BOBO   Larry Pager    Edward Thorp   \n4           420496          IKEA     Elon Tusk    Edward Thorp   \n5           636685    Tesla Inc.     Elon Tusk    Edward Thorp   \n6           636685    Tesla Inc.     Elon Tusk    Edward Thorp   \n7          1216870     Microsoft   Will Grates    Edward Thorp   \n8          2200450       Walmart   Will Grates    Edward Thorp   \n9           405886         Apple  Cindy Phoner  Claude Shannon   \n10          470248  Exxon Mobile  Cindy Phoner  Claude Shannon   \n11          698032           ATT  Cindy Phoner  Claude Shannon   \n12          698032           ATT  Cindy Phoner  Claude Shannon   \n13          902797    CVS Health  Emma Gordian  Claude Shannon   \n14         2046943    Salesforce  Emma Gordian  Claude Shannon   \n15         2169499         Cisco  Emma Gordian  Claude Shannon   \n16         2169499         Cisco  Emma Gordian  Claude Shannon   \n\n            Product  Licenses  Sale Price        Status  \n0         Analytics       150     2100000     Presented  \n1        Prediction       150      700000     Presented  \n2          Tracking       300      350000  Under Review  \n3         Analytics       150     2450000          Lost  \n4         Analytics       300     4550000           Won  \n5         Analytics       300     2800000  Under Review  \n6        Prediction       150      700000     Presented  \n7          Tracking       300      350000  Under Review  \n8         Analytics       150     2450000          Lost  \n9         Analytics       300     4550000           Won  \n10        Analytics       150     2100000     Presented  \n11         Tracking       150      350000  Under Review  \n12       Prediction       150      700000     Presented  \n13         Tracking       450      490000           Won  \n14        Analytics       750     7000000           Won  \n15        Analytics       300     4550000          Lost  \n16  GPS Positioning       300      350000     Presented  ",
      "text/html": "<div>\n<style scoped>\n    .dataframe tbody tr th:only-of-type {\n        vertical-align: middle;\n    }\n\n    .dataframe tbody tr th {\n        vertical-align: top;\n    }\n\n    .dataframe thead th {\n        text-align: right;\n    }\n</style>\n<table border=\"1\" class=\"dataframe\">\n  <thead>\n    <tr style=\"text-align: right;\">\n      <th></th>\n      <th>Account Number</th>\n      <th>Company</th>\n      <th>Contact</th>\n      <th>Account Manager</th>\n      <th>Product</th>\n      <th>Licenses</th>\n      <th>Sale Price</th>\n      <th>Status</th>\n    </tr>\n  </thead>\n  <tbody>\n    <tr>\n      <th>0</th>\n      <td>2123398</td>\n      <td>Google</td>\n      <td>Larry Pager</td>\n      <td>Edward Thorp</td>\n      <td>Analytics</td>\n      <td>150</td>\n      <td>2100000</td>\n      <td>Presented</td>\n    </tr>\n    <tr>\n      <th>1</th>\n      <td>2123398</td>\n      <td>Google</td>\n      <td>Larry Pager</td>\n      <td>Edward Thorp</td>\n      <td>Prediction</td>\n      <td>150</td>\n      <td>700000</td>\n      <td>Presented</td>\n    </tr>\n    <tr>\n      <th>2</th>\n      <td>2123398</td>\n      <td>Google</td>\n      <td>Larry Pager</td>\n      <td>Edward Thorp</td>\n      <td>Tracking</td>\n      <td>300</td>\n      <td>350000</td>\n      <td>Under Review</td>\n    </tr>\n    <tr>\n      <th>3</th>\n      <td>2192650</td>\n      <td>BOBO</td>\n      <td>Larry Pager</td>\n      <td>Edward Thorp</td>\n      <td>Analytics</td>\n      <td>150</td>\n      <td>2450000</td>\n      <td>Lost</td>\n    </tr>\n    <tr>\n      <th>4</th>\n      <td>420496</td>\n      <td>IKEA</td>\n      <td>Elon Tusk</td>\n      <td>Edward Thorp</td>\n      <td>Analytics</td>\n      <td>300</td>\n      <td>4550000</td>\n      <td>Won</td>\n    </tr>\n    <tr>\n      <th>5</th>\n      <td>636685</td>\n      <td>Tesla Inc.</td>\n      <td>Elon Tusk</td>\n      <td>Edward Thorp</td>\n      <td>Analytics</td>\n      <td>300</td>\n      <td>2800000</td>\n      <td>Under Review</td>\n    </tr>\n    <tr>\n      <th>6</th>\n      <td>636685</td>\n      <td>Tesla Inc.</td>\n      <td>Elon Tusk</td>\n      <td>Edward Thorp</td>\n      <td>Prediction</td>\n      <td>150</td>\n      <td>700000</td>\n      <td>Presented</td>\n    </tr>\n    <tr>\n      <th>7</th>\n      <td>1216870</td>\n      <td>Microsoft</td>\n      <td>Will Grates</td>\n      <td>Edward Thorp</td>\n      <td>Tracking</td>\n      <td>300</td>\n      <td>350000</td>\n      <td>Under Review</td>\n    </tr>\n    <tr>\n      <th>8</th>\n      <td>2200450</td>\n      <td>Walmart</td>\n      <td>Will Grates</td>\n      <td>Edward Thorp</td>\n      <td>Analytics</td>\n      <td>150</td>\n      <td>2450000</td>\n      <td>Lost</td>\n    </tr>\n    <tr>\n      <th>9</th>\n      <td>405886</td>\n      <td>Apple</td>\n      <td>Cindy Phoner</td>\n      <td>Claude Shannon</td>\n      <td>Analytics</td>\n      <td>300</td>\n      <td>4550000</td>\n      <td>Won</td>\n    </tr>\n    <tr>\n      <th>10</th>\n      <td>470248</td>\n      <td>Exxon Mobile</td>\n      <td>Cindy Phoner</td>\n      <td>Claude Shannon</td>\n      <td>Analytics</td>\n      <td>150</td>\n      <td>2100000</td>\n      <td>Presented</td>\n    </tr>\n    <tr>\n      <th>11</th>\n      <td>698032</td>\n      <td>ATT</td>\n      <td>Cindy Phoner</td>\n      <td>Claude Shannon</td>\n      <td>Tracking</td>\n      <td>150</td>\n      <td>350000</td>\n      <td>Under Review</td>\n    </tr>\n    <tr>\n      <th>12</th>\n      <td>698032</td>\n      <td>ATT</td>\n      <td>Cindy Phoner</td>\n      <td>Claude Shannon</td>\n      <td>Prediction</td>\n      <td>150</td>\n      <td>700000</td>\n      <td>Presented</td>\n    </tr>\n    <tr>\n      <th>13</th>\n      <td>902797</td>\n      <td>CVS Health</td>\n      <td>Emma Gordian</td>\n      <td>Claude Shannon</td>\n      <td>Tracking</td>\n      <td>450</td>\n      <td>490000</td>\n      <td>Won</td>\n    </tr>\n    <tr>\n      <th>14</th>\n      <td>2046943</td>\n      <td>Salesforce</td>\n      <td>Emma Gordian</td>\n      <td>Claude Shannon</td>\n      <td>Analytics</td>\n      <td>750</td>\n      <td>7000000</td>\n      <td>Won</td>\n    </tr>\n    <tr>\n      <th>15</th>\n      <td>2169499</td>\n      <td>Cisco</td>\n      <td>Emma Gordian</td>\n      <td>Claude Shannon</td>\n      <td>Analytics</td>\n      <td>300</td>\n      <td>4550000</td>\n      <td>Lost</td>\n    </tr>\n    <tr>\n      <th>16</th>\n      <td>2169499</td>\n      <td>Cisco</td>\n      <td>Emma Gordian</td>\n      <td>Claude Shannon</td>\n      <td>GPS Positioning</td>\n      <td>300</td>\n      <td>350000</td>\n      <td>Presented</td>\n    </tr>\n  </tbody>\n</table>\n</div>"
     },
     "execution_count": 7,
     "metadata": {},
     "output_type": "execute_result"
    }
   ],
   "source": [
    "df"
   ],
   "metadata": {
    "collapsed": false,
    "pycharm": {
     "name": "#%%\n"
    }
   }
  },
  {
   "cell_type": "code",
   "execution_count": 8,
   "outputs": [
    {
     "data": {
      "text/plain": "              Account Number  Licenses  Sale Price\nCompany                                           \n Google              6370194       600     3150000\nATT                  1396064       300     1050000\nApple                 405886       300     4550000\nBOBO                 2192650       150     2450000\nCVS Health            902797       450      490000\nCisco                4338998       600     4900000\nExxon Mobile          470248       150     2100000\nIKEA                  420496       300     4550000\nMicrosoft            1216870       300      350000\nSalesforce           2046943       750     7000000\nTesla Inc.           1273370       450     3500000\nWalmart              2200450       150     2450000",
      "text/html": "<div>\n<style scoped>\n    .dataframe tbody tr th:only-of-type {\n        vertical-align: middle;\n    }\n\n    .dataframe tbody tr th {\n        vertical-align: top;\n    }\n\n    .dataframe thead th {\n        text-align: right;\n    }\n</style>\n<table border=\"1\" class=\"dataframe\">\n  <thead>\n    <tr style=\"text-align: right;\">\n      <th></th>\n      <th>Account Number</th>\n      <th>Licenses</th>\n      <th>Sale Price</th>\n    </tr>\n    <tr>\n      <th>Company</th>\n      <th></th>\n      <th></th>\n      <th></th>\n    </tr>\n  </thead>\n  <tbody>\n    <tr>\n      <th>Google</th>\n      <td>6370194</td>\n      <td>600</td>\n      <td>3150000</td>\n    </tr>\n    <tr>\n      <th>ATT</th>\n      <td>1396064</td>\n      <td>300</td>\n      <td>1050000</td>\n    </tr>\n    <tr>\n      <th>Apple</th>\n      <td>405886</td>\n      <td>300</td>\n      <td>4550000</td>\n    </tr>\n    <tr>\n      <th>BOBO</th>\n      <td>2192650</td>\n      <td>150</td>\n      <td>2450000</td>\n    </tr>\n    <tr>\n      <th>CVS Health</th>\n      <td>902797</td>\n      <td>450</td>\n      <td>490000</td>\n    </tr>\n    <tr>\n      <th>Cisco</th>\n      <td>4338998</td>\n      <td>600</td>\n      <td>4900000</td>\n    </tr>\n    <tr>\n      <th>Exxon Mobile</th>\n      <td>470248</td>\n      <td>150</td>\n      <td>2100000</td>\n    </tr>\n    <tr>\n      <th>IKEA</th>\n      <td>420496</td>\n      <td>300</td>\n      <td>4550000</td>\n    </tr>\n    <tr>\n      <th>Microsoft</th>\n      <td>1216870</td>\n      <td>300</td>\n      <td>350000</td>\n    </tr>\n    <tr>\n      <th>Salesforce</th>\n      <td>2046943</td>\n      <td>750</td>\n      <td>7000000</td>\n    </tr>\n    <tr>\n      <th>Tesla Inc.</th>\n      <td>1273370</td>\n      <td>450</td>\n      <td>3500000</td>\n    </tr>\n    <tr>\n      <th>Walmart</th>\n      <td>2200450</td>\n      <td>150</td>\n      <td>2450000</td>\n    </tr>\n  </tbody>\n</table>\n</div>"
     },
     "execution_count": 8,
     "metadata": {},
     "output_type": "execute_result"
    }
   ],
   "source": [
    "pd.pivot_table(df, index='Company', aggfunc='sum')"
   ],
   "metadata": {
    "collapsed": false,
    "pycharm": {
     "name": "#%%\n"
    }
   }
  },
  {
   "cell_type": "code",
   "execution_count": 9,
   "outputs": [
    {
     "data": {
      "text/plain": "              Account Number  Licenses  Sale Price\nCompany                                           \n Google              6370194       600     3150000\nATT                  1396064       300     1050000\nApple                 405886       300     4550000\nBOBO                 2192650       150     2450000\nCVS Health            902797       450      490000\nCisco                4338998       600     4900000\nExxon Mobile          470248       150     2100000\nIKEA                  420496       300     4550000\nMicrosoft            1216870       300      350000\nSalesforce           2046943       750     7000000\nTesla Inc.           1273370       450     3500000\nWalmart              2200450       150     2450000",
      "text/html": "<div>\n<style scoped>\n    .dataframe tbody tr th:only-of-type {\n        vertical-align: middle;\n    }\n\n    .dataframe tbody tr th {\n        vertical-align: top;\n    }\n\n    .dataframe thead th {\n        text-align: right;\n    }\n</style>\n<table border=\"1\" class=\"dataframe\">\n  <thead>\n    <tr style=\"text-align: right;\">\n      <th></th>\n      <th>Account Number</th>\n      <th>Licenses</th>\n      <th>Sale Price</th>\n    </tr>\n    <tr>\n      <th>Company</th>\n      <th></th>\n      <th></th>\n      <th></th>\n    </tr>\n  </thead>\n  <tbody>\n    <tr>\n      <th>Google</th>\n      <td>6370194</td>\n      <td>600</td>\n      <td>3150000</td>\n    </tr>\n    <tr>\n      <th>ATT</th>\n      <td>1396064</td>\n      <td>300</td>\n      <td>1050000</td>\n    </tr>\n    <tr>\n      <th>Apple</th>\n      <td>405886</td>\n      <td>300</td>\n      <td>4550000</td>\n    </tr>\n    <tr>\n      <th>BOBO</th>\n      <td>2192650</td>\n      <td>150</td>\n      <td>2450000</td>\n    </tr>\n    <tr>\n      <th>CVS Health</th>\n      <td>902797</td>\n      <td>450</td>\n      <td>490000</td>\n    </tr>\n    <tr>\n      <th>Cisco</th>\n      <td>4338998</td>\n      <td>600</td>\n      <td>4900000</td>\n    </tr>\n    <tr>\n      <th>Exxon Mobile</th>\n      <td>470248</td>\n      <td>150</td>\n      <td>2100000</td>\n    </tr>\n    <tr>\n      <th>IKEA</th>\n      <td>420496</td>\n      <td>300</td>\n      <td>4550000</td>\n    </tr>\n    <tr>\n      <th>Microsoft</th>\n      <td>1216870</td>\n      <td>300</td>\n      <td>350000</td>\n    </tr>\n    <tr>\n      <th>Salesforce</th>\n      <td>2046943</td>\n      <td>750</td>\n      <td>7000000</td>\n    </tr>\n    <tr>\n      <th>Tesla Inc.</th>\n      <td>1273370</td>\n      <td>450</td>\n      <td>3500000</td>\n    </tr>\n    <tr>\n      <th>Walmart</th>\n      <td>2200450</td>\n      <td>150</td>\n      <td>2450000</td>\n    </tr>\n  </tbody>\n</table>\n</div>"
     },
     "execution_count": 9,
     "metadata": {},
     "output_type": "execute_result"
    }
   ],
   "source": [
    "df.groupby('Company').sum()"
   ],
   "metadata": {
    "collapsed": false,
    "pycharm": {
     "name": "#%%\n"
    }
   }
  },
  {
   "cell_type": "code",
   "execution_count": 10,
   "outputs": [
    {
     "data": {
      "text/plain": "              Licenses  Sale Price\nCompany                           \n Google            600     3150000\nATT                300     1050000\nApple              300     4550000\nBOBO               150     2450000\nCVS Health         450      490000\nCisco              600     4900000\nExxon Mobile       150     2100000\nIKEA               300     4550000\nMicrosoft          300      350000\nSalesforce         750     7000000\nTesla Inc.         450     3500000\nWalmart            150     2450000",
      "text/html": "<div>\n<style scoped>\n    .dataframe tbody tr th:only-of-type {\n        vertical-align: middle;\n    }\n\n    .dataframe tbody tr th {\n        vertical-align: top;\n    }\n\n    .dataframe thead th {\n        text-align: right;\n    }\n</style>\n<table border=\"1\" class=\"dataframe\">\n  <thead>\n    <tr style=\"text-align: right;\">\n      <th></th>\n      <th>Licenses</th>\n      <th>Sale Price</th>\n    </tr>\n    <tr>\n      <th>Company</th>\n      <th></th>\n      <th></th>\n    </tr>\n  </thead>\n  <tbody>\n    <tr>\n      <th>Google</th>\n      <td>600</td>\n      <td>3150000</td>\n    </tr>\n    <tr>\n      <th>ATT</th>\n      <td>300</td>\n      <td>1050000</td>\n    </tr>\n    <tr>\n      <th>Apple</th>\n      <td>300</td>\n      <td>4550000</td>\n    </tr>\n    <tr>\n      <th>BOBO</th>\n      <td>150</td>\n      <td>2450000</td>\n    </tr>\n    <tr>\n      <th>CVS Health</th>\n      <td>450</td>\n      <td>490000</td>\n    </tr>\n    <tr>\n      <th>Cisco</th>\n      <td>600</td>\n      <td>4900000</td>\n    </tr>\n    <tr>\n      <th>Exxon Mobile</th>\n      <td>150</td>\n      <td>2100000</td>\n    </tr>\n    <tr>\n      <th>IKEA</th>\n      <td>300</td>\n      <td>4550000</td>\n    </tr>\n    <tr>\n      <th>Microsoft</th>\n      <td>300</td>\n      <td>350000</td>\n    </tr>\n    <tr>\n      <th>Salesforce</th>\n      <td>750</td>\n      <td>7000000</td>\n    </tr>\n    <tr>\n      <th>Tesla Inc.</th>\n      <td>450</td>\n      <td>3500000</td>\n    </tr>\n    <tr>\n      <th>Walmart</th>\n      <td>150</td>\n      <td>2450000</td>\n    </tr>\n  </tbody>\n</table>\n</div>"
     },
     "execution_count": 10,
     "metadata": {},
     "output_type": "execute_result"
    }
   ],
   "source": [
    "pd.pivot_table(df, index='Company', aggfunc='sum', values=['Licenses', 'Sale Price'])"
   ],
   "metadata": {
    "collapsed": false,
    "pycharm": {
     "name": "#%%\n"
    }
   }
  },
  {
   "cell_type": "code",
   "execution_count": 11,
   "outputs": [
    {
     "data": {
      "text/plain": "                              Sale Price\nAccount Manager Contact                 \nClaude Shannon  Cindy Phoner     7700000\n                Emma Gordian    12390000\nEdward Thorp    Elon Tusk        8050000\n                Larry Pager      5600000\n                Will Grates      2800000",
      "text/html": "<div>\n<style scoped>\n    .dataframe tbody tr th:only-of-type {\n        vertical-align: middle;\n    }\n\n    .dataframe tbody tr th {\n        vertical-align: top;\n    }\n\n    .dataframe thead th {\n        text-align: right;\n    }\n</style>\n<table border=\"1\" class=\"dataframe\">\n  <thead>\n    <tr style=\"text-align: right;\">\n      <th></th>\n      <th></th>\n      <th>Sale Price</th>\n    </tr>\n    <tr>\n      <th>Account Manager</th>\n      <th>Contact</th>\n      <th></th>\n    </tr>\n  </thead>\n  <tbody>\n    <tr>\n      <th rowspan=\"2\" valign=\"top\">Claude Shannon</th>\n      <th>Cindy Phoner</th>\n      <td>7700000</td>\n    </tr>\n    <tr>\n      <th>Emma Gordian</th>\n      <td>12390000</td>\n    </tr>\n    <tr>\n      <th rowspan=\"3\" valign=\"top\">Edward Thorp</th>\n      <th>Elon Tusk</th>\n      <td>8050000</td>\n    </tr>\n    <tr>\n      <th>Larry Pager</th>\n      <td>5600000</td>\n    </tr>\n    <tr>\n      <th>Will Grates</th>\n      <td>2800000</td>\n    </tr>\n  </tbody>\n</table>\n</div>"
     },
     "execution_count": 11,
     "metadata": {},
     "output_type": "execute_result"
    }
   ],
   "source": [
    "pd.pivot_table(df, index=['Account Manager', 'Contact'], values=['Sale Price'], aggfunc='sum')"
   ],
   "metadata": {
    "collapsed": false,
    "pycharm": {
     "name": "#%%\n"
    }
   }
  },
  {
   "cell_type": "code",
   "execution_count": 12,
   "outputs": [
    {
     "data": {
      "text/plain": "                              Sale Price                                     \nProduct                        Analytics GPS Positioning Prediction  Tracking\nAccount Manager Contact                                                      \nClaude Shannon  Cindy Phoner   6650000.0             NaN   700000.0  350000.0\n                Emma Gordian  11550000.0        350000.0        NaN  490000.0\nEdward Thorp    Elon Tusk      7350000.0             NaN   700000.0       NaN\n                Larry Pager    4550000.0             NaN   700000.0  350000.0\n                Will Grates    2450000.0             NaN        NaN  350000.0",
      "text/html": "<div>\n<style scoped>\n    .dataframe tbody tr th:only-of-type {\n        vertical-align: middle;\n    }\n\n    .dataframe tbody tr th {\n        vertical-align: top;\n    }\n\n    .dataframe thead tr th {\n        text-align: left;\n    }\n\n    .dataframe thead tr:last-of-type th {\n        text-align: right;\n    }\n</style>\n<table border=\"1\" class=\"dataframe\">\n  <thead>\n    <tr>\n      <th></th>\n      <th></th>\n      <th colspan=\"4\" halign=\"left\">Sale Price</th>\n    </tr>\n    <tr>\n      <th></th>\n      <th>Product</th>\n      <th>Analytics</th>\n      <th>GPS Positioning</th>\n      <th>Prediction</th>\n      <th>Tracking</th>\n    </tr>\n    <tr>\n      <th>Account Manager</th>\n      <th>Contact</th>\n      <th></th>\n      <th></th>\n      <th></th>\n      <th></th>\n    </tr>\n  </thead>\n  <tbody>\n    <tr>\n      <th rowspan=\"2\" valign=\"top\">Claude Shannon</th>\n      <th>Cindy Phoner</th>\n      <td>6650000.0</td>\n      <td>NaN</td>\n      <td>700000.0</td>\n      <td>350000.0</td>\n    </tr>\n    <tr>\n      <th>Emma Gordian</th>\n      <td>11550000.0</td>\n      <td>350000.0</td>\n      <td>NaN</td>\n      <td>490000.0</td>\n    </tr>\n    <tr>\n      <th rowspan=\"3\" valign=\"top\">Edward Thorp</th>\n      <th>Elon Tusk</th>\n      <td>7350000.0</td>\n      <td>NaN</td>\n      <td>700000.0</td>\n      <td>NaN</td>\n    </tr>\n    <tr>\n      <th>Larry Pager</th>\n      <td>4550000.0</td>\n      <td>NaN</td>\n      <td>700000.0</td>\n      <td>350000.0</td>\n    </tr>\n    <tr>\n      <th>Will Grates</th>\n      <td>2450000.0</td>\n      <td>NaN</td>\n      <td>NaN</td>\n      <td>350000.0</td>\n    </tr>\n  </tbody>\n</table>\n</div>"
     },
     "execution_count": 12,
     "metadata": {},
     "output_type": "execute_result"
    }
   ],
   "source": [
    "pd.pivot_table(df, index=['Account Manager', 'Contact'], values=['Sale Price'], columns=['Product'], aggfunc='sum')"
   ],
   "metadata": {
    "collapsed": false,
    "pycharm": {
     "name": "#%%\n"
    }
   }
  },
  {
   "cell_type": "code",
   "execution_count": 13,
   "outputs": [
    {
     "data": {
      "text/plain": "                             Sale Price                                    \nProduct                       Analytics GPS Positioning Prediction Tracking\nAccount Manager Contact                                                    \nClaude Shannon  Cindy Phoner    6650000               0     700000   350000\n                Emma Gordian   11550000          350000          0   490000\nEdward Thorp    Elon Tusk       7350000               0     700000        0\n                Larry Pager     4550000               0     700000   350000\n                Will Grates     2450000               0          0   350000",
      "text/html": "<div>\n<style scoped>\n    .dataframe tbody tr th:only-of-type {\n        vertical-align: middle;\n    }\n\n    .dataframe tbody tr th {\n        vertical-align: top;\n    }\n\n    .dataframe thead tr th {\n        text-align: left;\n    }\n\n    .dataframe thead tr:last-of-type th {\n        text-align: right;\n    }\n</style>\n<table border=\"1\" class=\"dataframe\">\n  <thead>\n    <tr>\n      <th></th>\n      <th></th>\n      <th colspan=\"4\" halign=\"left\">Sale Price</th>\n    </tr>\n    <tr>\n      <th></th>\n      <th>Product</th>\n      <th>Analytics</th>\n      <th>GPS Positioning</th>\n      <th>Prediction</th>\n      <th>Tracking</th>\n    </tr>\n    <tr>\n      <th>Account Manager</th>\n      <th>Contact</th>\n      <th></th>\n      <th></th>\n      <th></th>\n      <th></th>\n    </tr>\n  </thead>\n  <tbody>\n    <tr>\n      <th rowspan=\"2\" valign=\"top\">Claude Shannon</th>\n      <th>Cindy Phoner</th>\n      <td>6650000</td>\n      <td>0</td>\n      <td>700000</td>\n      <td>350000</td>\n    </tr>\n    <tr>\n      <th>Emma Gordian</th>\n      <td>11550000</td>\n      <td>350000</td>\n      <td>0</td>\n      <td>490000</td>\n    </tr>\n    <tr>\n      <th rowspan=\"3\" valign=\"top\">Edward Thorp</th>\n      <th>Elon Tusk</th>\n      <td>7350000</td>\n      <td>0</td>\n      <td>700000</td>\n      <td>0</td>\n    </tr>\n    <tr>\n      <th>Larry Pager</th>\n      <td>4550000</td>\n      <td>0</td>\n      <td>700000</td>\n      <td>350000</td>\n    </tr>\n    <tr>\n      <th>Will Grates</th>\n      <td>2450000</td>\n      <td>0</td>\n      <td>0</td>\n      <td>350000</td>\n    </tr>\n  </tbody>\n</table>\n</div>"
     },
     "execution_count": 13,
     "metadata": {},
     "output_type": "execute_result"
    }
   ],
   "source": [
    "pd.pivot_table(df, index=['Account Manager', 'Contact'], values=['Sale Price'], columns=['Product'], aggfunc='sum', fill_value=0)"
   ],
   "metadata": {
    "collapsed": false,
    "pycharm": {
     "name": "#%%\n"
    }
   }
  },
  {
   "cell_type": "code",
   "execution_count": 14,
   "outputs": [
    {
     "data": {
      "text/plain": "                                    sum                                      \\\n                             Sale Price                                       \nProduct                       Analytics GPS Positioning Prediction Tracking   \nAccount Manager Contact                                                       \nClaude Shannon  Cindy Phoner    6650000               0     700000   350000   \n                Emma Gordian   11550000          350000          0   490000   \nEdward Thorp    Elon Tusk       7350000               0     700000        0   \n                Larry Pager     4550000               0     700000   350000   \n                Will Grates     2450000               0          0   350000   \n\n                                   mean                                      \n                             Sale Price                                      \nProduct                       Analytics GPS Positioning Prediction Tracking  \nAccount Manager Contact                                                      \nClaude Shannon  Cindy Phoner    3325000               0     700000   350000  \n                Emma Gordian    5775000          350000          0   490000  \nEdward Thorp    Elon Tusk       3675000               0     700000        0  \n                Larry Pager     2275000               0     700000   350000  \n                Will Grates     2450000               0          0   350000  ",
      "text/html": "<div>\n<style scoped>\n    .dataframe tbody tr th:only-of-type {\n        vertical-align: middle;\n    }\n\n    .dataframe tbody tr th {\n        vertical-align: top;\n    }\n\n    .dataframe thead tr th {\n        text-align: left;\n    }\n\n    .dataframe thead tr:last-of-type th {\n        text-align: right;\n    }\n</style>\n<table border=\"1\" class=\"dataframe\">\n  <thead>\n    <tr>\n      <th></th>\n      <th></th>\n      <th colspan=\"4\" halign=\"left\">sum</th>\n      <th colspan=\"4\" halign=\"left\">mean</th>\n    </tr>\n    <tr>\n      <th></th>\n      <th></th>\n      <th colspan=\"4\" halign=\"left\">Sale Price</th>\n      <th colspan=\"4\" halign=\"left\">Sale Price</th>\n    </tr>\n    <tr>\n      <th></th>\n      <th>Product</th>\n      <th>Analytics</th>\n      <th>GPS Positioning</th>\n      <th>Prediction</th>\n      <th>Tracking</th>\n      <th>Analytics</th>\n      <th>GPS Positioning</th>\n      <th>Prediction</th>\n      <th>Tracking</th>\n    </tr>\n    <tr>\n      <th>Account Manager</th>\n      <th>Contact</th>\n      <th></th>\n      <th></th>\n      <th></th>\n      <th></th>\n      <th></th>\n      <th></th>\n      <th></th>\n      <th></th>\n    </tr>\n  </thead>\n  <tbody>\n    <tr>\n      <th rowspan=\"2\" valign=\"top\">Claude Shannon</th>\n      <th>Cindy Phoner</th>\n      <td>6650000</td>\n      <td>0</td>\n      <td>700000</td>\n      <td>350000</td>\n      <td>3325000</td>\n      <td>0</td>\n      <td>700000</td>\n      <td>350000</td>\n    </tr>\n    <tr>\n      <th>Emma Gordian</th>\n      <td>11550000</td>\n      <td>350000</td>\n      <td>0</td>\n      <td>490000</td>\n      <td>5775000</td>\n      <td>350000</td>\n      <td>0</td>\n      <td>490000</td>\n    </tr>\n    <tr>\n      <th rowspan=\"3\" valign=\"top\">Edward Thorp</th>\n      <th>Elon Tusk</th>\n      <td>7350000</td>\n      <td>0</td>\n      <td>700000</td>\n      <td>0</td>\n      <td>3675000</td>\n      <td>0</td>\n      <td>700000</td>\n      <td>0</td>\n    </tr>\n    <tr>\n      <th>Larry Pager</th>\n      <td>4550000</td>\n      <td>0</td>\n      <td>700000</td>\n      <td>350000</td>\n      <td>2275000</td>\n      <td>0</td>\n      <td>700000</td>\n      <td>350000</td>\n    </tr>\n    <tr>\n      <th>Will Grates</th>\n      <td>2450000</td>\n      <td>0</td>\n      <td>0</td>\n      <td>350000</td>\n      <td>2450000</td>\n      <td>0</td>\n      <td>0</td>\n      <td>350000</td>\n    </tr>\n  </tbody>\n</table>\n</div>"
     },
     "execution_count": 14,
     "metadata": {},
     "output_type": "execute_result"
    }
   ],
   "source": [
    "pd.pivot_table(df, index=['Account Manager', 'Contact'], values=['Sale Price'], columns=['Product'], aggfunc=[np.sum, np.mean], fill_value=0)"
   ],
   "metadata": {
    "collapsed": false,
    "pycharm": {
     "name": "#%%\n"
    }
   }
  },
  {
   "cell_type": "code",
   "execution_count": 15,
   "outputs": [
    {
     "data": {
      "text/plain": "                                                    sum       mean\n                                             Sale Price Sale Price\nAccount Manager Contact      Product                              \nClaude Shannon  Cindy Phoner Analytics          6650000    3325000\n                             Prediction          700000     700000\n                             Tracking            350000     350000\n                Emma Gordian Analytics         11550000    5775000\n                             GPS Positioning     350000     350000\n                             Tracking            490000     490000\nEdward Thorp    Elon Tusk    Analytics          7350000    3675000\n                             Prediction          700000     700000\n                Larry Pager  Analytics          4550000    2275000\n                             Prediction          700000     700000\n                             Tracking            350000     350000\n                Will Grates  Analytics          2450000    2450000\n                             Tracking            350000     350000",
      "text/html": "<div>\n<style scoped>\n    .dataframe tbody tr th:only-of-type {\n        vertical-align: middle;\n    }\n\n    .dataframe tbody tr th {\n        vertical-align: top;\n    }\n\n    .dataframe thead tr th {\n        text-align: left;\n    }\n\n    .dataframe thead tr:last-of-type th {\n        text-align: right;\n    }\n</style>\n<table border=\"1\" class=\"dataframe\">\n  <thead>\n    <tr>\n      <th></th>\n      <th></th>\n      <th></th>\n      <th>sum</th>\n      <th>mean</th>\n    </tr>\n    <tr>\n      <th></th>\n      <th></th>\n      <th></th>\n      <th>Sale Price</th>\n      <th>Sale Price</th>\n    </tr>\n    <tr>\n      <th>Account Manager</th>\n      <th>Contact</th>\n      <th>Product</th>\n      <th></th>\n      <th></th>\n    </tr>\n  </thead>\n  <tbody>\n    <tr>\n      <th rowspan=\"6\" valign=\"top\">Claude Shannon</th>\n      <th rowspan=\"3\" valign=\"top\">Cindy Phoner</th>\n      <th>Analytics</th>\n      <td>6650000</td>\n      <td>3325000</td>\n    </tr>\n    <tr>\n      <th>Prediction</th>\n      <td>700000</td>\n      <td>700000</td>\n    </tr>\n    <tr>\n      <th>Tracking</th>\n      <td>350000</td>\n      <td>350000</td>\n    </tr>\n    <tr>\n      <th rowspan=\"3\" valign=\"top\">Emma Gordian</th>\n      <th>Analytics</th>\n      <td>11550000</td>\n      <td>5775000</td>\n    </tr>\n    <tr>\n      <th>GPS Positioning</th>\n      <td>350000</td>\n      <td>350000</td>\n    </tr>\n    <tr>\n      <th>Tracking</th>\n      <td>490000</td>\n      <td>490000</td>\n    </tr>\n    <tr>\n      <th rowspan=\"7\" valign=\"top\">Edward Thorp</th>\n      <th rowspan=\"2\" valign=\"top\">Elon Tusk</th>\n      <th>Analytics</th>\n      <td>7350000</td>\n      <td>3675000</td>\n    </tr>\n    <tr>\n      <th>Prediction</th>\n      <td>700000</td>\n      <td>700000</td>\n    </tr>\n    <tr>\n      <th rowspan=\"3\" valign=\"top\">Larry Pager</th>\n      <th>Analytics</th>\n      <td>4550000</td>\n      <td>2275000</td>\n    </tr>\n    <tr>\n      <th>Prediction</th>\n      <td>700000</td>\n      <td>700000</td>\n    </tr>\n    <tr>\n      <th>Tracking</th>\n      <td>350000</td>\n      <td>350000</td>\n    </tr>\n    <tr>\n      <th rowspan=\"2\" valign=\"top\">Will Grates</th>\n      <th>Analytics</th>\n      <td>2450000</td>\n      <td>2450000</td>\n    </tr>\n    <tr>\n      <th>Tracking</th>\n      <td>350000</td>\n      <td>350000</td>\n    </tr>\n  </tbody>\n</table>\n</div>"
     },
     "execution_count": 15,
     "metadata": {},
     "output_type": "execute_result"
    }
   ],
   "source": [
    "pd.pivot_table(df, index=['Account Manager', 'Contact', 'Product'], values=['Sale Price'], aggfunc=[np.sum, np.mean], fill_value=0)"
   ],
   "metadata": {
    "collapsed": false,
    "pycharm": {
     "name": "#%%\n"
    }
   }
  },
  {
   "cell_type": "code",
   "execution_count": 16,
   "outputs": [
    {
     "data": {
      "text/plain": "                                                    sum          mean\n                                             Sale Price    Sale Price\nAccount Manager Contact      Product                                 \nClaude Shannon  Cindy Phoner Analytics          6650000  3.325000e+06\n                             Prediction          700000  7.000000e+05\n                             Tracking            350000  3.500000e+05\n                Emma Gordian Analytics         11550000  5.775000e+06\n                             GPS Positioning     350000  3.500000e+05\n                             Tracking            490000  4.900000e+05\nEdward Thorp    Elon Tusk    Analytics          7350000  3.675000e+06\n                             Prediction          700000  7.000000e+05\n                Larry Pager  Analytics          4550000  2.275000e+06\n                             Prediction          700000  7.000000e+05\n                             Tracking            350000  3.500000e+05\n                Will Grates  Analytics          2450000  2.450000e+06\n                             Tracking            350000  3.500000e+05\nAll                                            36540000  2.149412e+06",
      "text/html": "<div>\n<style scoped>\n    .dataframe tbody tr th:only-of-type {\n        vertical-align: middle;\n    }\n\n    .dataframe tbody tr th {\n        vertical-align: top;\n    }\n\n    .dataframe thead tr th {\n        text-align: left;\n    }\n\n    .dataframe thead tr:last-of-type th {\n        text-align: right;\n    }\n</style>\n<table border=\"1\" class=\"dataframe\">\n  <thead>\n    <tr>\n      <th></th>\n      <th></th>\n      <th></th>\n      <th>sum</th>\n      <th>mean</th>\n    </tr>\n    <tr>\n      <th></th>\n      <th></th>\n      <th></th>\n      <th>Sale Price</th>\n      <th>Sale Price</th>\n    </tr>\n    <tr>\n      <th>Account Manager</th>\n      <th>Contact</th>\n      <th>Product</th>\n      <th></th>\n      <th></th>\n    </tr>\n  </thead>\n  <tbody>\n    <tr>\n      <th rowspan=\"6\" valign=\"top\">Claude Shannon</th>\n      <th rowspan=\"3\" valign=\"top\">Cindy Phoner</th>\n      <th>Analytics</th>\n      <td>6650000</td>\n      <td>3.325000e+06</td>\n    </tr>\n    <tr>\n      <th>Prediction</th>\n      <td>700000</td>\n      <td>7.000000e+05</td>\n    </tr>\n    <tr>\n      <th>Tracking</th>\n      <td>350000</td>\n      <td>3.500000e+05</td>\n    </tr>\n    <tr>\n      <th rowspan=\"3\" valign=\"top\">Emma Gordian</th>\n      <th>Analytics</th>\n      <td>11550000</td>\n      <td>5.775000e+06</td>\n    </tr>\n    <tr>\n      <th>GPS Positioning</th>\n      <td>350000</td>\n      <td>3.500000e+05</td>\n    </tr>\n    <tr>\n      <th>Tracking</th>\n      <td>490000</td>\n      <td>4.900000e+05</td>\n    </tr>\n    <tr>\n      <th rowspan=\"7\" valign=\"top\">Edward Thorp</th>\n      <th rowspan=\"2\" valign=\"top\">Elon Tusk</th>\n      <th>Analytics</th>\n      <td>7350000</td>\n      <td>3.675000e+06</td>\n    </tr>\n    <tr>\n      <th>Prediction</th>\n      <td>700000</td>\n      <td>7.000000e+05</td>\n    </tr>\n    <tr>\n      <th rowspan=\"3\" valign=\"top\">Larry Pager</th>\n      <th>Analytics</th>\n      <td>4550000</td>\n      <td>2.275000e+06</td>\n    </tr>\n    <tr>\n      <th>Prediction</th>\n      <td>700000</td>\n      <td>7.000000e+05</td>\n    </tr>\n    <tr>\n      <th>Tracking</th>\n      <td>350000</td>\n      <td>3.500000e+05</td>\n    </tr>\n    <tr>\n      <th rowspan=\"2\" valign=\"top\">Will Grates</th>\n      <th>Analytics</th>\n      <td>2450000</td>\n      <td>2.450000e+06</td>\n    </tr>\n    <tr>\n      <th>Tracking</th>\n      <td>350000</td>\n      <td>3.500000e+05</td>\n    </tr>\n    <tr>\n      <th>All</th>\n      <th></th>\n      <th></th>\n      <td>36540000</td>\n      <td>2.149412e+06</td>\n    </tr>\n  </tbody>\n</table>\n</div>"
     },
     "execution_count": 16,
     "metadata": {},
     "output_type": "execute_result"
    }
   ],
   "source": [
    "pd.pivot_table(df, index=['Account Manager', 'Contact', 'Product'], values=['Sale Price'], aggfunc=[np.sum, np.mean], fill_value=0, margins=True)"
   ],
   "metadata": {
    "collapsed": false,
    "pycharm": {
     "name": "#%%\n"
    }
   }
  },
  {
   "cell_type": "code",
   "execution_count": null,
   "outputs": [],
   "source": [],
   "metadata": {
    "collapsed": false,
    "pycharm": {
     "name": "#%%\n"
    }
   }
  }
 ],
 "metadata": {
  "kernelspec": {
   "display_name": "Python 3",
   "language": "python",
   "name": "python3"
  },
  "language_info": {
   "codemirror_mode": {
    "name": "ipython",
    "version": 2
   },
   "file_extension": ".py",
   "mimetype": "text/x-python",
   "name": "python",
   "nbconvert_exporter": "python",
   "pygments_lexer": "ipython2",
   "version": "2.7.6"
  }
 },
 "nbformat": 4,
 "nbformat_minor": 0
}